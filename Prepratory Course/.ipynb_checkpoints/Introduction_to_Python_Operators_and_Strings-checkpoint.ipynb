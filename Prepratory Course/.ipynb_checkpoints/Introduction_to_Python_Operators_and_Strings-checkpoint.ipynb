{
 "cells": [
  {
   "cell_type": "code",
   "execution_count": 1,
   "id": "18f776dd",
   "metadata": {},
   "outputs": [
    {
     "name": "stdout",
     "output_type": "stream",
     "text": [
      "Hi this is a print Statement\n"
     ]
    }
   ],
   "source": [
    "print(\"Introduction to Python Operators and Strings\")"
   ]
  },
  {
   "cell_type": "code",
   "execution_count": 3,
   "id": "486e2ac7",
   "metadata": {},
   "outputs": [
    {
     "name": "stdout",
     "output_type": "stream",
     "text": [
      "13\n",
      "-1\n",
      "42\n",
      "0.8571428571428571\n",
      "0\n",
      "6\n",
      "279936\n"
     ]
    }
   ],
   "source": [
    "a=6\n",
    "b=7\n",
    "print(a + b)\n",
    "print(a-b)\n",
    "print(a*b)\n",
    "print(a/b) #prints out exact value with decimal\n",
    "print(a//b)\n",
    "print(a%b)\n",
    "print(a**b)"
   ]
  },
  {
   "cell_type": "code",
   "execution_count": 4,
   "id": "cb9fc97c",
   "metadata": {},
   "outputs": [
    {
     "name": "stdout",
     "output_type": "stream",
     "text": [
      "11.714285714285714\n"
     ]
    }
   ],
   "source": [
    "print(4*5-9 +5/7)"
   ]
  },
  {
   "cell_type": "code",
   "execution_count": 5,
   "id": "2dbd32c3",
   "metadata": {},
   "outputs": [
    {
     "name": "stdout",
     "output_type": "stream",
     "text": [
      "10\n",
      "9\n"
     ]
    }
   ],
   "source": [
    "inc=9\n",
    "inc+=1\n",
    "print(inc)\n",
    "inc-=1\n",
    "print(inc)"
   ]
  },
  {
   "cell_type": "code",
   "execution_count": 8,
   "id": "5c5c6130",
   "metadata": {},
   "outputs": [
    {
     "name": "stdout",
     "output_type": "stream",
     "text": [
      "True\n",
      "False\n",
      "True\n"
     ]
    }
   ],
   "source": [
    "print(3 < 4)\n",
    "print(True and False)\n",
    "print(a!=b)"
   ]
  },
  {
   "cell_type": "code",
   "execution_count": 15,
   "id": "0b5724ef",
   "metadata": {},
   "outputs": [
    {
     "name": "stdout",
     "output_type": "stream",
     "text": [
      "      Satya is great  \n",
      "Satya is great\n"
     ]
    }
   ],
   "source": [
    "#strip() - remove whitespace from the right\n",
    "some_sentence=\"      Satya is great  \"\n",
    "print(some_sentence)\n",
    "print(some_sentence.strip())"
   ]
  },
  {
   "cell_type": "code",
   "execution_count": 12,
   "id": "5110b506",
   "metadata": {},
   "outputs": [
    {
     "name": "stdout",
     "output_type": "stream",
     "text": [
      "4\n"
     ]
    }
   ],
   "source": [
    "increment= '4%'\n",
    "print(increment.rstrip('%')) #remove % from right\n"
   ]
  },
  {
   "cell_type": "code",
   "execution_count": 14,
   "id": "98f998e9",
   "metadata": {},
   "outputs": [
    {
     "name": "stdout",
     "output_type": "stream",
     "text": [
      "   Satya is great  \n",
      "Satya is great  \n"
     ]
    }
   ],
   "source": [
    "left_some_sentence=\"   Satya is great  \"\n",
    "print(left_some_sentence)\n",
    "print(left_some_sentence.lstrip())"
   ]
  },
  {
   "cell_type": "code",
   "execution_count": 16,
   "id": "f8a4adcc",
   "metadata": {},
   "outputs": [
    {
     "name": "stdout",
     "output_type": "stream",
     "text": [
      "Satya is great  \n",
      "Satya is great\n"
     ]
    }
   ],
   "source": [
    "right_some_sentence=\"Satya is great  \"\n",
    "print(right_some_sentence)\n",
    "print(right_some_sentence.rstrip())"
   ]
  },
  {
   "cell_type": "code",
   "execution_count": 26,
   "id": "a462ea81",
   "metadata": {},
   "outputs": [
    {
     "name": "stdout",
     "output_type": "stream",
     "text": [
      "Number of Apples  2\n",
      "apples\n",
      "app\n",
      "2468\n",
      "13579\n",
      "Pandas Io\n",
      "Data Analysis using Pandas Io\n"
     ]
    }
   ],
   "source": [
    "val =\"2 apples\"\n",
    "no_of_apples=val[0]\n",
    "print(\"Number of Apples \",no_of_apples)\n",
    "\n",
    "what=val[2:] # starts from third character\n",
    "print(what)\n",
    "\n",
    "\n",
    "print(val[2:5]) #starts from third character till 5 exluding 5\n",
    "\n",
    "given_string=\"I have 10 apples.\"\n",
    "\n",
    "#reverse indexing starts from -1\n",
    "#given_string[-2]=\"s\"\n",
    "#given_string[-1]=\".\"\n",
    "\n",
    "nums='123456789'\n",
    "even_nums=nums[1::2] #starting from 1 index  how many characters do i skip is the number after two colons\n",
    "print(even_nums)\n",
    "\n",
    "odd_nums=nums[0::2] #starting from 0 index how many characters do i skip is the number after two colons\n",
    "print(odd_nums)\n",
    "\n",
    "#formatting\n",
    "A=\"Data\"\n",
    "B=\"Analysis\"\n",
    "C=\"Pandas Io\"\n",
    "\n",
    "print(\"{0} {1} using {2}\".format(A,B,C))"
   ]
  },
  {
   "cell_type": "code",
   "execution_count": null,
   "id": "befb1e9b",
   "metadata": {},
   "outputs": [],
   "source": []
  }
 ],
 "metadata": {
  "kernelspec": {
   "display_name": "Python 3 (ipykernel)",
   "language": "python",
   "name": "python3"
  },
  "language_info": {
   "codemirror_mode": {
    "name": "ipython",
    "version": 3
   },
   "file_extension": ".py",
   "mimetype": "text/x-python",
   "name": "python",
   "nbconvert_exporter": "python",
   "pygments_lexer": "ipython3",
   "version": "3.8.8"
  }
 },
 "nbformat": 4,
 "nbformat_minor": 5
}
