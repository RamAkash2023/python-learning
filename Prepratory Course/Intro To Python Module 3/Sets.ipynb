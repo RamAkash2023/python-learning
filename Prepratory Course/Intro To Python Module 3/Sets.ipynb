{
 "cells": [
  {
   "cell_type": "code",
   "execution_count": 4,
   "metadata": {},
   "outputs": [],
   "source": [
    "students_list = ['A','A','B','C','C','E','N']\n"
   ]
  },
  {
   "cell_type": "code",
   "execution_count": 6,
   "metadata": {},
   "outputs": [
    {
     "name": "stdout",
     "output_type": "stream",
     "text": [
      "['E', 'B', 'A', 'C', 'N']\n",
      "{1, 3, 4, 5}\n"
     ]
    }
   ],
   "source": [
    "students_set = set(students_list)\n",
    "print(list(students_set))\n",
    "student=set([1,3,4,5])\n",
    "print(student)\n",
    "\n"
   ]
  },
  {
   "cell_type": "code",
   "execution_count": 4,
   "metadata": {},
   "outputs": [
    {
     "name": "stdout",
     "output_type": "stream",
     "text": [
      "<class 'list'>\n"
     ]
    }
   ],
   "source": [
    "print(type(students_list))\n"
   ]
  },
  {
   "cell_type": "code",
   "execution_count": 2,
   "metadata": {},
   "outputs": [],
   "source": [
    "students_list_2 = ['A','N','F','N','G','A']\n"
   ]
  },
  {
   "cell_type": "code",
   "execution_count": null,
   "metadata": {
    "collapsed": true
   },
   "outputs": [],
   "source": [
    "students_set_2 = set(students_list_2)\n"
   ]
  },
  {
   "cell_type": "code",
   "execution_count": null,
   "metadata": {},
   "outputs": [],
   "source": [
    "print(students_set.intersection(students_set_2))"
   ]
  },
  {
   "cell_type": "code",
   "execution_count": null,
   "metadata": {},
   "outputs": [],
   "source": [
    "print(students_set.union(students_set_2))"
   ]
  },
  {
   "cell_type": "code",
   "execution_count": 8,
   "metadata": {},
   "outputs": [
    {
     "ename": "AttributeError",
     "evalue": "'set' object has no attribute 'setdifference'",
     "output_type": "error",
     "traceback": [
      "\u001b[0;31m---------------------------------------------------------------------------\u001b[0m",
      "\u001b[0;31mAttributeError\u001b[0m                            Traceback (most recent call last)",
      "\u001b[0;32m/tmp/ipykernel_23437/391517545.py\u001b[0m in \u001b[0;36m<module>\u001b[0;34m\u001b[0m\n\u001b[0;32m----> 1\u001b[0;31m \u001b[0mprint\u001b[0m\u001b[0;34m(\u001b[0m\u001b[0mstudents_set\u001b[0m\u001b[0;34m.\u001b[0m\u001b[0msetdifference\u001b[0m\u001b[0;34m(\u001b[0m\u001b[0mstudents_set_2\u001b[0m\u001b[0;34m)\u001b[0m\u001b[0;34m)\u001b[0m\u001b[0;34m\u001b[0m\u001b[0;34m\u001b[0m\u001b[0m\n\u001b[0m",
      "\u001b[0;31mAttributeError\u001b[0m: 'set' object has no attribute 'setdifference'"
     ]
    }
   ],
   "source": [
    "print(students_set.setdifference(students_set_2))"
   ]
  },
  {
   "cell_type": "code",
   "execution_count": null,
   "metadata": {},
   "outputs": [],
   "source": [
    "# Set Operations\n",
    "# Description\n",
    "# In a school, there are total 20 students numbered from 1 to 20. You’re given three lists named ‘C’, ‘F’, and ‘H’, representing students who play cricket, football, and hockey, respectively. Based on this information, find out and print the following: \n",
    "# Students who play all the three sports\n",
    "# Students who play both cricket and football but don’t play hockey\n",
    "# Students who play exactly two of the sports\n",
    "# Students who don’t play any of the three sports\n",
    "# Format:\n",
    "# Input:\n",
    "# 3 lists containing numbers (ranging from 1 to 20) representing students who play cricket, football and hockey respectively.\n",
    "# Output:\n",
    "# 4 different lists containing the students according to the constraints provided in the questions.\n",
    "\n",
    "# Note: Make sure you sort the final lists (in an ascending order) that you get before printing them; otherwise your answer might not match the test-cases.\n",
    "\n",
    "# Examples:\n",
    "# Input 1:\n",
    "# [2, 5, 9, 12, 13, 15, 16, 17, 18, 19]\n",
    "# [2, 4, 5, 6, 7, 9, 13, 16]\n",
    "# [1, 2, 5, 9, 10, 11, 12, 13, 15]\n",
    "# Output 1:\n",
    "# [2, 5, 9, 13]\n",
    "# [16]\n",
    "# [12, 15, 16]\n",
    "# [3, 8, 14, 20]\n",
    "\n",
    "# Explanation:\n",
    "# 1.Given the three sets, you can see that the students numbered '2', '5', '9', and '13' play all the three sports. \n",
    "# 2. The student numbered '16' plays cricket and football but doesn't play hockey. \n",
    "# 3. The student numbered '12' and '15' plays cricket and hockey and the student numbered '16' plays cricket and football. There are no students who play only football and hockey. Hence, the students who play exactly two sports are 12, 15, and 16.\n",
    "# 4. As you can see, the students who play none of the sports are 3, 8, 14, and 20.\n",
    "import ast,sys\n",
    "input_str = sys.stdin.read()\n",
    "input_list = ast.literal_eval(input_str)\n",
    "C = input_list[0]\n",
    "F = input_list[1]\n",
    "H = input_list[2]\n",
    "set_C=set(C)\n",
    "set_F=set(F)\n",
    "set_H=set(H)\n",
    "A=set(range(1,20))\n",
    "rint=list(set_H & set_C & set_F)\n",
    "cf=list(set_F & set_C - set_H)\n",
    "onlytwo=list((set_H| set_C | set_F)-(set_F ^ set_C ^ set_H))\n",
    "last=list(set(range(1,21))-(set_H|set_C|set_F))\n",
    "print(sorted(rint))\n",
    "print(sorted(cf))\n",
    "print(sorted(onlytwo))\n",
    "print(sorted(last))\n"
   ]
  }
 ],
 "metadata": {
  "anaconda-cloud": {},
  "kernelspec": {
   "display_name": "Python 3 (ipykernel)",
   "language": "python",
   "name": "python3"
  },
  "language_info": {
   "codemirror_mode": {
    "name": "ipython",
    "version": 3
   },
   "file_extension": ".py",
   "mimetype": "text/x-python",
   "name": "python",
   "nbconvert_exporter": "python",
   "pygments_lexer": "ipython3",
   "version": "3.8.8"
  }
 },
 "nbformat": 4,
 "nbformat_minor": 1
}
